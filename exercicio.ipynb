{
  "nbformat": 4,
  "nbformat_minor": 0,
  "metadata": {
    "colab": {
      "provenance": [],
      "authorship_tag": "ABX9TyNI505zKJ5Bjfx1bj5hftmO",
      "include_colab_link": true
    },
    "kernelspec": {
      "name": "python3",
      "display_name": "Python 3"
    },
    "language_info": {
      "name": "python"
    }
  },
  "cells": [
    {
      "cell_type": "markdown",
      "metadata": {
        "id": "view-in-github",
        "colab_type": "text"
      },
      "source": [
        "<a href=\"https://colab.research.google.com/github/klenioal/klenio-portfolio/blob/main/exercicio.ipynb\" target=\"_parent\"><img src=\"https://colab.research.google.com/assets/colab-badge.svg\" alt=\"Open In Colab\"/></a>"
      ]
    },
    {
      "cell_type": "code",
      "source": [
        "num=0\n",
        "for num in range(1,21):\n",
        "    if num%2==0:\n",
        "        print(num)\n"
      ],
      "metadata": {
        "colab": {
          "base_uri": "https://localhost:8080/"
        },
        "id": "zGv9Y1t3_VmN",
        "outputId": "61a5ce29-3807-4d66-a94d-f5d956180906"
      },
      "execution_count": null,
      "outputs": [
        {
          "output_type": "stream",
          "name": "stdout",
          "text": [
            "2\n",
            "4\n",
            "6\n",
            "8\n",
            "10\n",
            "12\n",
            "14\n",
            "16\n",
            "18\n",
            "20\n"
          ]
        }
      ]
    },
    {
      "cell_type": "markdown",
      "source": [],
      "metadata": {
        "id": "E-wABBr-dNnk"
      }
    },
    {
      "cell_type": "code",
      "execution_count": null,
      "metadata": {
        "colab": {
          "base_uri": "https://localhost:8080/"
        },
        "id": "FblYtTdNbAhy",
        "outputId": "00a132ff-df7e-457e-9b9b-1f58f6243f3b"
      },
      "outputs": [
        {
          "output_type": "stream",
          "name": "stdout",
          "text": [
            "1\n",
            "2\n",
            "3\n",
            "4\n",
            "5\n",
            "6\n",
            "7\n",
            "8\n",
            "9\n",
            "10\n"
          ]
        }
      ],
      "source": [
        "num=0\n",
        "for num in range(1,11):\n",
        "    print(num)"
      ]
    },
    {
      "cell_type": "code",
      "source": [
        "convidados = ['ana', 'klenio', 'carlos', 'amanda']\n",
        "\n",
        "convidados_com_a = [nome for nome in convidados if nome.startswith('a')]\n",
        "\n",
        "print('Lista de convidados anterior:', convidados)\n",
        "print('Nova lista de convidados com letra A:', convidados_com_a)"
      ],
      "metadata": {
        "colab": {
          "base_uri": "https://localhost:8080/"
        },
        "id": "gjxnPCI-AEHI",
        "outputId": "573ffa0e-69c5-47d6-fc8b-30558ffe1b5c"
      },
      "execution_count": null,
      "outputs": [
        {
          "output_type": "stream",
          "name": "stdout",
          "text": [
            "Lista de convidados anterior: ['ana', 'klenio', 'carlos', 'amanda']\n",
            "Nova lista de convidados com letra A: ['ana', 'amanda']\n"
          ]
        }
      ]
    },
    {
      "cell_type": "code",
      "source": [
        "notas=[8, 6.2, 4.7, 9.5, 7.6]\n",
        "\n",
        "soma=sum(notas)\n",
        "media=soma/len(notas)\n",
        "\n",
        "print('A soma das notas é:', soma)\n",
        "print('A média das notas é:', media)\n",
        "\n",
        "\n",
        "cont=0\n",
        "for cont in range(len(notas)):\n",
        "    if notas[cont]>=media:\n",
        "       print('Acima da média:', notas[cont])\n",
        "\n"
      ],
      "metadata": {
        "colab": {
          "base_uri": "https://localhost:8080/"
        },
        "id": "9uZIFvo_GEzO",
        "outputId": "2121eca9-28e8-48a4-8b13-1d97bf97f0dd"
      },
      "execution_count": null,
      "outputs": [
        {
          "output_type": "stream",
          "name": "stdout",
          "text": [
            "A soma das notas é: 36.0\n",
            "A média das notas é: 7.2\n",
            "Acima da média: 8\n",
            "Acima da média: 9.5\n",
            "Acima da média: 7.6\n"
          ]
        }
      ]
    },
    {
      "cell_type": "code",
      "source": [
        "produto = (1, 'Livro a arte de viver - Epicteto', 60.00)\n",
        "\n",
        "print(f\"ID: {produto[0]}\")\n",
        "print(f\"Nome: {produto[1]}\")\n",
        "print(f\"Preço: R$ {produto[2]:.2f}\")"
      ],
      "metadata": {
        "colab": {
          "base_uri": "https://localhost:8080/"
        },
        "id": "qZTRv_wpIrJp",
        "outputId": "5c0ffd5b-c4f3-4331-c3e2-94634cdd78b6"
      },
      "execution_count": null,
      "outputs": [
        {
          "output_type": "stream",
          "name": "stdout",
          "text": [
            "ID: 1\n",
            "Nome: Livro a arte de viver - Epicteto\n",
            "Preço: R$ 60.00\n"
          ]
        }
      ]
    },
    {
      "cell_type": "code",
      "source": [
        "numeros=[10, -5, 8, 12, 3, -1, 20]\n",
        "somapositivos=0\n",
        "for numeros in numeros:\n",
        "    if numeros>0:\n",
        "        somapositivos+=numeros\n",
        "print(somapositivos)\n"
      ],
      "metadata": {
        "colab": {
          "base_uri": "https://localhost:8080/"
        },
        "id": "NVbig-SCP9Iu",
        "outputId": "08541907-278a-4c58-960d-f607a0c0c945"
      },
      "execution_count": null,
      "outputs": [
        {
          "output_type": "stream",
          "name": "stdout",
          "text": [
            "53\n"
          ]
        }
      ]
    }
  ]
}